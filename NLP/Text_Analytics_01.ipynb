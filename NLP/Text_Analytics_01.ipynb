{
  "nbformat": 4,
  "nbformat_minor": 0,
  "metadata": {
    "colab": {
      "name": "Text Analytics.ipynb",
      "provenance": [],
      "collapsed_sections": [
        "Zvmhc2KxxuEY",
        "FHqlFh-Uy20s"
      ],
      "include_colab_link": true
    },
    "kernelspec": {
      "name": "python3",
      "display_name": "Python 3"
    }
  },
  "cells": [
    {
      "cell_type": "markdown",
      "metadata": {
        "id": "view-in-github",
        "colab_type": "text"
      },
      "source": [
        "<a href=\"https://colab.research.google.com/github/vizzyno1/DevRepos/blob/master/NLP/Text_Analytics_01.ipynb\" target=\"_parent\"><img src=\"https://colab.research.google.com/assets/colab-badge.svg\" alt=\"Open In Colab\"/></a>"
      ]
    },
    {
      "cell_type": "markdown",
      "metadata": {
        "id": "FL6aLF52rzGC"
      },
      "source": [
        "# Text Data"
      ]
    },
    {
      "cell_type": "code",
      "metadata": {
        "id": "DqyRXkPsjIwg"
      },
      "source": [
        "text = \"India, officially the Republic of India is a country in South Asia. It is the second-most populous country, the seventh-largest country by land area, and the most populous democracy in the world. Bounded by the Indian Ocean on the south, the Arabian Sea on the southwest, and the Bay of Bengal on the southeast, it shares land borders with Pakistan to the west; China, Nepal, and Bhutan to the north; and Bangladesh and Myanmar to the east.\""
      ],
      "execution_count": 2,
      "outputs": []
    },
    {
      "cell_type": "markdown",
      "metadata": {
        "id": "aXN510OCr2ZT"
      },
      "source": [
        "# Length of the text"
      ]
    },
    {
      "cell_type": "code",
      "metadata": {
        "id": "G8p4IdgsqxGm",
        "outputId": "52c70951-9f8b-4e21-f324-bd948437af41",
        "colab": {
          "base_uri": "https://localhost:8080/",
          "height": 34
        }
      },
      "source": [
        "len(text)"
      ],
      "execution_count": 3,
      "outputs": [
        {
          "output_type": "execute_result",
          "data": {
            "text/plain": [
              "440"
            ]
          },
          "metadata": {
            "tags": []
          },
          "execution_count": 3
        }
      ]
    },
    {
      "cell_type": "markdown",
      "metadata": {
        "id": "GyaZhU1Ar53c"
      },
      "source": [
        "#Loading NLTK"
      ]
    },
    {
      "cell_type": "code",
      "metadata": {
        "id": "YlOUJBFwrH6e"
      },
      "source": [
        "import nltk"
      ],
      "execution_count": 5,
      "outputs": []
    },
    {
      "cell_type": "code",
      "metadata": {
        "id": "B7ysgKZ1rgdn",
        "outputId": "1ed976a9-0d90-4984-f97b-7fd04ec70fcd",
        "colab": {
          "base_uri": "https://localhost:8080/",
          "height": 163
        }
      },
      "source": [
        "nltk.download('punkt')"
      ],
      "execution_count": 4,
      "outputs": [
        {
          "output_type": "error",
          "ename": "NameError",
          "evalue": "ignored",
          "traceback": [
            "\u001b[0;31m---------------------------------------------------------------------------\u001b[0m",
            "\u001b[0;31mNameError\u001b[0m                                 Traceback (most recent call last)",
            "\u001b[0;32m<ipython-input-4-9533fb74b295>\u001b[0m in \u001b[0;36m<module>\u001b[0;34m()\u001b[0m\n\u001b[0;32m----> 1\u001b[0;31m \u001b[0mnltk\u001b[0m\u001b[0;34m.\u001b[0m\u001b[0mdownload\u001b[0m\u001b[0;34m(\u001b[0m\u001b[0;34m'punkt'\u001b[0m\u001b[0;34m)\u001b[0m\u001b[0;34m\u001b[0m\u001b[0;34m\u001b[0m\u001b[0m\n\u001b[0m",
            "\u001b[0;31mNameError\u001b[0m: name 'nltk' is not defined"
          ]
        }
      ]
    },
    {
      "cell_type": "markdown",
      "metadata": {
        "id": "HLmglLCir_jV"
      },
      "source": [
        "#Tokenizing text"
      ]
    },
    {
      "cell_type": "code",
      "metadata": {
        "id": "TNRthFYxtkxg",
        "outputId": "162e1b3f-85ab-4575-cf78-fe4f15bce1b5",
        "colab": {
          "base_uri": "https://localhost:8080/",
          "height": 1000
        }
      },
      "source": [
        "text.split()"
      ],
      "execution_count": null,
      "outputs": [
        {
          "output_type": "execute_result",
          "data": {
            "text/plain": [
              "['India,',\n",
              " 'officially',\n",
              " 'the',\n",
              " 'Republic',\n",
              " 'of',\n",
              " 'India',\n",
              " 'is',\n",
              " 'a',\n",
              " 'country',\n",
              " 'in',\n",
              " 'South',\n",
              " 'Asia.',\n",
              " 'It',\n",
              " 'is',\n",
              " 'the',\n",
              " 'second-most',\n",
              " 'populous',\n",
              " 'country,',\n",
              " 'the',\n",
              " 'seventh-largest',\n",
              " 'country',\n",
              " 'by',\n",
              " 'land',\n",
              " 'area,',\n",
              " 'and',\n",
              " 'the',\n",
              " 'most',\n",
              " 'populous',\n",
              " 'democracy',\n",
              " 'in',\n",
              " 'the',\n",
              " 'world.',\n",
              " 'Bounded',\n",
              " 'by',\n",
              " 'the',\n",
              " 'Indian',\n",
              " 'Ocean',\n",
              " 'on',\n",
              " 'the',\n",
              " 'south,',\n",
              " 'the',\n",
              " 'Arabian',\n",
              " 'Sea',\n",
              " 'on',\n",
              " 'the',\n",
              " 'southwest,',\n",
              " 'and',\n",
              " 'the',\n",
              " 'Bay',\n",
              " 'of',\n",
              " 'Bengal',\n",
              " 'on',\n",
              " 'the',\n",
              " 'southeast,',\n",
              " 'it',\n",
              " 'shares',\n",
              " 'land',\n",
              " 'borders',\n",
              " 'with',\n",
              " 'Pakistan',\n",
              " 'to',\n",
              " 'the',\n",
              " 'west;',\n",
              " 'China,',\n",
              " 'Nepal,',\n",
              " 'and',\n",
              " 'Bhutan',\n",
              " 'to',\n",
              " 'the',\n",
              " 'north;',\n",
              " 'and',\n",
              " 'Bangladesh',\n",
              " 'and',\n",
              " 'Myanmar',\n",
              " 'to',\n",
              " 'the',\n",
              " 'east.']"
            ]
          },
          "metadata": {
            "tags": []
          },
          "execution_count": 17
        }
      ]
    },
    {
      "cell_type": "code",
      "metadata": {
        "id": "M2v3M9ZbrVbq"
      },
      "source": [
        "from nltk.tokenize import word_tokenize"
      ],
      "execution_count": null,
      "outputs": []
    },
    {
      "cell_type": "code",
      "metadata": {
        "id": "twKyywLUrbZA"
      },
      "source": [
        "token = word_tokenize(text)"
      ],
      "execution_count": null,
      "outputs": []
    },
    {
      "cell_type": "code",
      "metadata": {
        "id": "i9cyR892rkVR",
        "outputId": "c894a097-1135-4a8f-ff70-6877e2758a94",
        "colab": {
          "base_uri": "https://localhost:8080/",
          "height": 54
        }
      },
      "source": [
        "print(token)"
      ],
      "execution_count": null,
      "outputs": [
        {
          "output_type": "stream",
          "text": [
            "['India', ',', 'officially', 'the', 'Republic', 'of', 'India', 'is', 'a', 'country', 'in', 'South', 'Asia', '.', 'It', 'is', 'the', 'second-most', 'populous', 'country', ',', 'the', 'seventh-largest', 'country', 'by', 'land', 'area', ',', 'and', 'the', 'most', 'populous', 'democracy', 'in', 'the', 'world', '.', 'Bounded', 'by', 'the', 'Indian', 'Ocean', 'on', 'the', 'south', ',', 'the', 'Arabian', 'Sea', 'on', 'the', 'southwest', ',', 'and', 'the', 'Bay', 'of', 'Bengal', 'on', 'the', 'southeast', ',', 'it', 'shares', 'land', 'borders', 'with', 'Pakistan', 'to', 'the', 'west', ';', 'China', ',', 'Nepal', ',', 'and', 'Bhutan', 'to', 'the', 'north', ';', 'and', 'Bangladesh', 'and', 'Myanmar', 'to', 'the', 'east', '.']\n"
          ],
          "name": "stdout"
        }
      ]
    },
    {
      "cell_type": "markdown",
      "metadata": {
        "id": "a41nBFeHsCLT"
      },
      "source": [
        "#Frequency distinct"
      ]
    },
    {
      "cell_type": "code",
      "metadata": {
        "id": "WPtiYUGwroIQ"
      },
      "source": [
        "from nltk.probability import FreqDist"
      ],
      "execution_count": null,
      "outputs": []
    },
    {
      "cell_type": "code",
      "metadata": {
        "id": "KYORqduSsG6P"
      },
      "source": [
        "fdist = FreqDist(token)"
      ],
      "execution_count": null,
      "outputs": []
    },
    {
      "cell_type": "code",
      "metadata": {
        "id": "CAgI_xLNsJhg",
        "outputId": "b3016416-1771-43b9-a35f-93468e3cd887",
        "colab": {
          "base_uri": "https://localhost:8080/",
          "height": 867
        }
      },
      "source": [
        "fdist"
      ],
      "execution_count": null,
      "outputs": [
        {
          "output_type": "execute_result",
          "data": {
            "text/plain": [
              "FreqDist({',': 8,\n",
              "          '.': 3,\n",
              "          ';': 2,\n",
              "          'Arabian': 1,\n",
              "          'Asia': 1,\n",
              "          'Bangladesh': 1,\n",
              "          'Bay': 1,\n",
              "          'Bengal': 1,\n",
              "          'Bhutan': 1,\n",
              "          'Bounded': 1,\n",
              "          'China': 1,\n",
              "          'India': 2,\n",
              "          'Indian': 1,\n",
              "          'It': 1,\n",
              "          'Myanmar': 1,\n",
              "          'Nepal': 1,\n",
              "          'Ocean': 1,\n",
              "          'Pakistan': 1,\n",
              "          'Republic': 1,\n",
              "          'Sea': 1,\n",
              "          'South': 1,\n",
              "          'a': 1,\n",
              "          'and': 5,\n",
              "          'area': 1,\n",
              "          'borders': 1,\n",
              "          'by': 2,\n",
              "          'country': 3,\n",
              "          'democracy': 1,\n",
              "          'east': 1,\n",
              "          'in': 2,\n",
              "          'is': 2,\n",
              "          'it': 1,\n",
              "          'land': 2,\n",
              "          'most': 1,\n",
              "          'north': 1,\n",
              "          'of': 2,\n",
              "          'officially': 1,\n",
              "          'on': 3,\n",
              "          'populous': 2,\n",
              "          'second-most': 1,\n",
              "          'seventh-largest': 1,\n",
              "          'shares': 1,\n",
              "          'south': 1,\n",
              "          'southeast': 1,\n",
              "          'southwest': 1,\n",
              "          'the': 14,\n",
              "          'to': 3,\n",
              "          'west': 1,\n",
              "          'with': 1,\n",
              "          'world': 1})"
            ]
          },
          "metadata": {
            "tags": []
          },
          "execution_count": 11
        }
      ]
    },
    {
      "cell_type": "markdown",
      "metadata": {
        "id": "O4m4ORu0sRn2"
      },
      "source": [
        "#Most Common"
      ]
    },
    {
      "cell_type": "code",
      "metadata": {
        "id": "sg7Z-f3ysNaf"
      },
      "source": [
        "fdist1 = fdist.most_common(5)"
      ],
      "execution_count": null,
      "outputs": []
    },
    {
      "cell_type": "code",
      "metadata": {
        "id": "eK1y5mf-sVHJ",
        "outputId": "ea6c885f-5904-496c-9156-124543b0f629",
        "colab": {
          "base_uri": "https://localhost:8080/",
          "height": 34
        }
      },
      "source": [
        "fdist1"
      ],
      "execution_count": null,
      "outputs": [
        {
          "output_type": "execute_result",
          "data": {
            "text/plain": [
              "[('the', 14), (',', 8), ('and', 5), ('country', 3), ('.', 3)]"
            ]
          },
          "metadata": {
            "tags": []
          },
          "execution_count": 25
        }
      ]
    },
    {
      "cell_type": "markdown",
      "metadata": {
        "id": "G_FN7yjXttMW"
      },
      "source": [
        "#N-Grams"
      ]
    },
    {
      "cell_type": "code",
      "metadata": {
        "id": "bk6DfVc8uc28"
      },
      "source": [
        "from textblob import TextBlob"
      ],
      "execution_count": null,
      "outputs": []
    },
    {
      "cell_type": "code",
      "metadata": {
        "id": "toC4fhUVufMK",
        "outputId": "21c0bb0a-cebf-4d6f-df3a-a86ba0b760b0",
        "colab": {
          "base_uri": "https://localhost:8080/",
          "height": 1000
        }
      },
      "source": [
        "TextBlob(text).ngrams(3)"
      ],
      "execution_count": null,
      "outputs": [
        {
          "output_type": "execute_result",
          "data": {
            "text/plain": [
              "[WordList(['India', 'officially', 'the']),\n",
              " WordList(['officially', 'the', 'Republic']),\n",
              " WordList(['the', 'Republic', 'of']),\n",
              " WordList(['Republic', 'of', 'India']),\n",
              " WordList(['of', 'India', 'is']),\n",
              " WordList(['India', 'is', 'a']),\n",
              " WordList(['is', 'a', 'country']),\n",
              " WordList(['a', 'country', 'in']),\n",
              " WordList(['country', 'in', 'South']),\n",
              " WordList(['in', 'South', 'Asia']),\n",
              " WordList(['South', 'Asia', 'It']),\n",
              " WordList(['Asia', 'It', 'is']),\n",
              " WordList(['It', 'is', 'the']),\n",
              " WordList(['is', 'the', 'second-most']),\n",
              " WordList(['the', 'second-most', 'populous']),\n",
              " WordList(['second-most', 'populous', 'country']),\n",
              " WordList(['populous', 'country', 'the']),\n",
              " WordList(['country', 'the', 'seventh-largest']),\n",
              " WordList(['the', 'seventh-largest', 'country']),\n",
              " WordList(['seventh-largest', 'country', 'by']),\n",
              " WordList(['country', 'by', 'land']),\n",
              " WordList(['by', 'land', 'area']),\n",
              " WordList(['land', 'area', 'and']),\n",
              " WordList(['area', 'and', 'the']),\n",
              " WordList(['and', 'the', 'most']),\n",
              " WordList(['the', 'most', 'populous']),\n",
              " WordList(['most', 'populous', 'democracy']),\n",
              " WordList(['populous', 'democracy', 'in']),\n",
              " WordList(['democracy', 'in', 'the']),\n",
              " WordList(['in', 'the', 'world']),\n",
              " WordList(['the', 'world', 'Bounded']),\n",
              " WordList(['world', 'Bounded', 'by']),\n",
              " WordList(['Bounded', 'by', 'the']),\n",
              " WordList(['by', 'the', 'Indian']),\n",
              " WordList(['the', 'Indian', 'Ocean']),\n",
              " WordList(['Indian', 'Ocean', 'on']),\n",
              " WordList(['Ocean', 'on', 'the']),\n",
              " WordList(['on', 'the', 'south']),\n",
              " WordList(['the', 'south', 'the']),\n",
              " WordList(['south', 'the', 'Arabian']),\n",
              " WordList(['the', 'Arabian', 'Sea']),\n",
              " WordList(['Arabian', 'Sea', 'on']),\n",
              " WordList(['Sea', 'on', 'the']),\n",
              " WordList(['on', 'the', 'southwest']),\n",
              " WordList(['the', 'southwest', 'and']),\n",
              " WordList(['southwest', 'and', 'the']),\n",
              " WordList(['and', 'the', 'Bay']),\n",
              " WordList(['the', 'Bay', 'of']),\n",
              " WordList(['Bay', 'of', 'Bengal']),\n",
              " WordList(['of', 'Bengal', 'on']),\n",
              " WordList(['Bengal', 'on', 'the']),\n",
              " WordList(['on', 'the', 'southeast']),\n",
              " WordList(['the', 'southeast', 'it']),\n",
              " WordList(['southeast', 'it', 'shares']),\n",
              " WordList(['it', 'shares', 'land']),\n",
              " WordList(['shares', 'land', 'borders']),\n",
              " WordList(['land', 'borders', 'with']),\n",
              " WordList(['borders', 'with', 'Pakistan']),\n",
              " WordList(['with', 'Pakistan', 'to']),\n",
              " WordList(['Pakistan', 'to', 'the']),\n",
              " WordList(['to', 'the', 'west']),\n",
              " WordList(['the', 'west', 'China']),\n",
              " WordList(['west', 'China', 'Nepal']),\n",
              " WordList(['China', 'Nepal', 'and']),\n",
              " WordList(['Nepal', 'and', 'Bhutan']),\n",
              " WordList(['and', 'Bhutan', 'to']),\n",
              " WordList(['Bhutan', 'to', 'the']),\n",
              " WordList(['to', 'the', 'north']),\n",
              " WordList(['the', 'north', 'and']),\n",
              " WordList(['north', 'and', 'Bangladesh']),\n",
              " WordList(['and', 'Bangladesh', 'and']),\n",
              " WordList(['Bangladesh', 'and', 'Myanmar']),\n",
              " WordList(['and', 'Myanmar', 'to']),\n",
              " WordList(['Myanmar', 'to', 'the']),\n",
              " WordList(['to', 'the', 'east'])]"
            ]
          },
          "metadata": {
            "tags": []
          },
          "execution_count": 27
        }
      ]
    },
    {
      "cell_type": "markdown",
      "metadata": {
        "id": "8I-e_vIYwyns"
      },
      "source": [
        "#Stemming"
      ]
    },
    {
      "cell_type": "code",
      "metadata": {
        "id": "cinkCfSWww03"
      },
      "source": [
        "from nltk.stem import PorterStemmer"
      ],
      "execution_count": null,
      "outputs": []
    },
    {
      "cell_type": "code",
      "metadata": {
        "id": "p-EhA_ZXw9Kg"
      },
      "source": [
        "pst = PorterStemmer()"
      ],
      "execution_count": null,
      "outputs": []
    },
    {
      "cell_type": "code",
      "metadata": {
        "id": "qrCs2KwHxAFl",
        "outputId": "121ddfb0-f4cc-4615-b136-a47670f6317a",
        "colab": {
          "base_uri": "https://localhost:8080/",
          "height": 35
        }
      },
      "source": [
        "pst.stem('sending')"
      ],
      "execution_count": null,
      "outputs": [
        {
          "output_type": "execute_result",
          "data": {
            "application/vnd.google.colaboratory.intrinsic+json": {
              "type": "string"
            },
            "text/plain": [
              "'send'"
            ]
          },
          "metadata": {
            "tags": []
          },
          "execution_count": 30
        }
      ]
    },
    {
      "cell_type": "code",
      "metadata": {
        "id": "aWcGtinCxHds",
        "outputId": "22f5d7da-50a8-495e-c475-1cbcce769d19",
        "colab": {
          "base_uri": "https://localhost:8080/",
          "height": 35
        }
      },
      "source": [
        "pst.stem('giving')"
      ],
      "execution_count": null,
      "outputs": [
        {
          "output_type": "execute_result",
          "data": {
            "application/vnd.google.colaboratory.intrinsic+json": {
              "type": "string"
            },
            "text/plain": [
              "'give'"
            ]
          },
          "metadata": {
            "tags": []
          },
          "execution_count": 31
        }
      ]
    },
    {
      "cell_type": "code",
      "metadata": {
        "id": "lcc0nU5Sx6xF",
        "outputId": "e8656058-a8e3-423a-a098-4a93fdb52972",
        "colab": {
          "base_uri": "https://localhost:8080/",
          "height": 35
        }
      },
      "source": [
        "pst.stem('formulae')"
      ],
      "execution_count": null,
      "outputs": [
        {
          "output_type": "execute_result",
          "data": {
            "application/vnd.google.colaboratory.intrinsic+json": {
              "type": "string"
            },
            "text/plain": [
              "'formula'"
            ]
          },
          "metadata": {
            "tags": []
          },
          "execution_count": 32
        }
      ]
    },
    {
      "cell_type": "code",
      "metadata": {
        "id": "Z0IPghAwyCv1",
        "outputId": "c451a39a-15b1-4d29-f9fa-002e904e0e84",
        "colab": {
          "base_uri": "https://localhost:8080/",
          "height": 35
        }
      },
      "source": [
        "pst.stem('knives')"
      ],
      "execution_count": null,
      "outputs": [
        {
          "output_type": "execute_result",
          "data": {
            "application/vnd.google.colaboratory.intrinsic+json": {
              "type": "string"
            },
            "text/plain": [
              "'knive'"
            ]
          },
          "metadata": {
            "tags": []
          },
          "execution_count": 23
        }
      ]
    },
    {
      "cell_type": "code",
      "metadata": {
        "id": "usUH5dBpxaOA"
      },
      "source": [
        "from nltk.stem import LancasterStemmer"
      ],
      "execution_count": null,
      "outputs": []
    },
    {
      "cell_type": "code",
      "metadata": {
        "id": "N1WsEcCPxdFa"
      },
      "source": [
        "lst = LancasterStemmer()"
      ],
      "execution_count": null,
      "outputs": []
    },
    {
      "cell_type": "code",
      "metadata": {
        "id": "wjOuYhYjxgJ-",
        "outputId": "76c7ca67-58d6-4c16-acb6-d31eced08132",
        "colab": {
          "base_uri": "https://localhost:8080/",
          "height": 35
        }
      },
      "source": [
        "lst.stem('sending')"
      ],
      "execution_count": null,
      "outputs": [
        {
          "output_type": "execute_result",
          "data": {
            "application/vnd.google.colaboratory.intrinsic+json": {
              "type": "string"
            },
            "text/plain": [
              "'send'"
            ]
          },
          "metadata": {
            "tags": []
          },
          "execution_count": 26
        }
      ]
    },
    {
      "cell_type": "code",
      "metadata": {
        "id": "Or_xDKzCxj_1",
        "outputId": "ca28c77e-b5c4-49b9-dceb-d2c99a2d8ad7",
        "colab": {
          "base_uri": "https://localhost:8080/",
          "height": 35
        }
      },
      "source": [
        "lst.stem('giving')"
      ],
      "execution_count": null,
      "outputs": [
        {
          "output_type": "execute_result",
          "data": {
            "application/vnd.google.colaboratory.intrinsic+json": {
              "type": "string"
            },
            "text/plain": [
              "'giv'"
            ]
          },
          "metadata": {
            "tags": []
          },
          "execution_count": 27
        }
      ]
    },
    {
      "cell_type": "code",
      "metadata": {
        "id": "_p8e1vwZyXxl",
        "outputId": "4c026433-b23e-4735-d9df-7e61b6777593",
        "colab": {
          "base_uri": "https://localhost:8080/",
          "height": 35
        }
      },
      "source": [
        "lst.stem('knives')"
      ],
      "execution_count": null,
      "outputs": [
        {
          "output_type": "execute_result",
          "data": {
            "application/vnd.google.colaboratory.intrinsic+json": {
              "type": "string"
            },
            "text/plain": [
              "'kniv'"
            ]
          },
          "metadata": {
            "tags": []
          },
          "execution_count": 28
        }
      ]
    },
    {
      "cell_type": "markdown",
      "metadata": {
        "id": "Zvmhc2KxxuEY"
      },
      "source": [
        "#Lemmatization"
      ]
    },
    {
      "cell_type": "code",
      "metadata": {
        "id": "akhkQ92Zxse6"
      },
      "source": [
        "from nltk.stem import WordNetLemmatizer"
      ],
      "execution_count": null,
      "outputs": []
    },
    {
      "cell_type": "code",
      "metadata": {
        "id": "N4UY5XTfyq-h",
        "outputId": "f59dfb50-cd9c-4f62-9f87-bb6432fbf612",
        "colab": {
          "base_uri": "https://localhost:8080/",
          "height": 69
        }
      },
      "source": [
        "nltk.download('wordnet')"
      ],
      "execution_count": null,
      "outputs": [
        {
          "output_type": "stream",
          "text": [
            "[nltk_data] Downloading package wordnet to /root/nltk_data...\n",
            "[nltk_data]   Unzipping corpora/wordnet.zip.\n"
          ],
          "name": "stdout"
        },
        {
          "output_type": "execute_result",
          "data": {
            "text/plain": [
              "True"
            ]
          },
          "metadata": {
            "tags": []
          },
          "execution_count": 35
        }
      ]
    },
    {
      "cell_type": "code",
      "metadata": {
        "id": "_9dM7wvAxz5b"
      },
      "source": [
        "lemmatizer = WordNetLemmatizer() "
      ],
      "execution_count": null,
      "outputs": []
    },
    {
      "cell_type": "code",
      "metadata": {
        "id": "kcrhAsctx4W-",
        "outputId": "84e89369-3d8f-44ea-ff5e-bb76a572d242",
        "colab": {
          "base_uri": "https://localhost:8080/",
          "height": 35
        }
      },
      "source": [
        "lemmatizer.lemmatize('knives')"
      ],
      "execution_count": null,
      "outputs": [
        {
          "output_type": "execute_result",
          "data": {
            "application/vnd.google.colaboratory.intrinsic+json": {
              "type": "string"
            },
            "text/plain": [
              "'knife'"
            ]
          },
          "metadata": {
            "tags": []
          },
          "execution_count": 37
        }
      ]
    },
    {
      "cell_type": "markdown",
      "metadata": {
        "id": "FHqlFh-Uy20s"
      },
      "source": [
        "#Stop words"
      ]
    },
    {
      "cell_type": "code",
      "metadata": {
        "id": "0j-ra_jj2j2y"
      },
      "source": [
        "from nltk import word_tokenize\n",
        "from nltk.corpus import stopwords"
      ],
      "execution_count": null,
      "outputs": []
    },
    {
      "cell_type": "code",
      "metadata": {
        "id": "ENZy0hzu2yXs",
        "outputId": "1e4c5553-d956-484a-f025-e1641f6c725d",
        "colab": {
          "base_uri": "https://localhost:8080/",
          "height": 69
        }
      },
      "source": [
        "nltk.download('stopwords')"
      ],
      "execution_count": null,
      "outputs": [
        {
          "output_type": "stream",
          "text": [
            "[nltk_data] Downloading package stopwords to /root/nltk_data...\n",
            "[nltk_data]   Unzipping corpora/stopwords.zip.\n"
          ],
          "name": "stdout"
        },
        {
          "output_type": "execute_result",
          "data": {
            "text/plain": [
              "True"
            ]
          },
          "metadata": {
            "tags": []
          },
          "execution_count": 42
        }
      ]
    },
    {
      "cell_type": "code",
      "metadata": {
        "id": "IwvGF5Ac2nnp"
      },
      "source": [
        "a = set(stopwords.words('english'))"
      ],
      "execution_count": null,
      "outputs": []
    },
    {
      "cell_type": "code",
      "metadata": {
        "id": "8OWKBGW722um"
      },
      "source": [
        "text1 = word_tokenize(text.lower())"
      ],
      "execution_count": null,
      "outputs": []
    },
    {
      "cell_type": "code",
      "metadata": {
        "id": "xN37fuxh234S",
        "outputId": "72e4e5c8-01c4-47be-c9d3-2407d9063977",
        "colab": {
          "base_uri": "https://localhost:8080/",
          "height": 54
        }
      },
      "source": [
        "print(text1)"
      ],
      "execution_count": null,
      "outputs": [
        {
          "output_type": "stream",
          "text": [
            "['india', ',', 'officially', 'the', 'republic', 'of', 'india', 'is', 'a', 'country', 'in', 'south', 'asia', '.', 'it', 'is', 'the', 'second-most', 'populous', 'country', ',', 'the', 'seventh-largest', 'country', 'by', 'land', 'area', ',', 'and', 'the', 'most', 'populous', 'democracy', 'in', 'the', 'world', '.', 'bounded', 'by', 'the', 'indian', 'ocean', 'on', 'the', 'south', ',', 'the', 'arabian', 'sea', 'on', 'the', 'southwest', ',', 'and', 'the', 'bay', 'of', 'bengal', 'on', 'the', 'southeast', ',', 'it', 'shares', 'land', 'borders', 'with', 'pakistan', 'to', 'the', 'west', ';', 'china', ',', 'nepal', ',', 'and', 'bhutan', 'to', 'the', 'north', ';', 'and', 'bangladesh', 'and', 'myanmar', 'to', 'the', 'east', '.']\n"
          ],
          "name": "stdout"
        }
      ]
    },
    {
      "cell_type": "code",
      "metadata": {
        "id": "A0s6V0y82_8f"
      },
      "source": [
        "stopwords = [x for x in text1 if x not in a]"
      ],
      "execution_count": null,
      "outputs": []
    },
    {
      "cell_type": "code",
      "metadata": {
        "id": "wy_FmVDs3CUF",
        "outputId": "3f08ae44-77a7-4b40-d5f7-355bf0d2016d",
        "colab": {
          "base_uri": "https://localhost:8080/",
          "height": 54
        }
      },
      "source": [
        "print(stopwords)"
      ],
      "execution_count": null,
      "outputs": [
        {
          "output_type": "stream",
          "text": [
            "['india', ',', 'officially', 'republic', 'india', 'country', 'south', 'asia', '.', 'second-most', 'populous', 'country', ',', 'seventh-largest', 'country', 'land', 'area', ',', 'populous', 'democracy', 'world', '.', 'bounded', 'indian', 'ocean', 'south', ',', 'arabian', 'sea', 'southwest', ',', 'bay', 'bengal', 'southeast', ',', 'shares', 'land', 'borders', 'pakistan', 'west', ';', 'china', ',', 'nepal', ',', 'bhutan', 'north', ';', 'bangladesh', 'myanmar', 'east', '.']\n"
          ],
          "name": "stdout"
        }
      ]
    },
    {
      "cell_type": "markdown",
      "metadata": {
        "id": "e3VIXe643pva"
      },
      "source": [
        "#Wordcloud"
      ]
    },
    {
      "cell_type": "code",
      "metadata": {
        "id": "LtN3V2h33EPz"
      },
      "source": [
        "from wordcloud import WordCloud"
      ],
      "execution_count": null,
      "outputs": []
    },
    {
      "cell_type": "code",
      "metadata": {
        "id": "07V31s7l3kmD"
      },
      "source": [
        "import matplotlib.pyplot as plt"
      ],
      "execution_count": null,
      "outputs": []
    },
    {
      "cell_type": "code",
      "metadata": {
        "id": "kA1pUlyY3TpE",
        "outputId": "ee563ba8-792c-4ca0-c071-54547da72346",
        "colab": {
          "base_uri": "https://localhost:8080/",
          "height": 380
        }
      },
      "source": [
        "all_words = ' '.join([t for t in stopwords])\n",
        "wordcloud = WordCloud(width=800, height=500, random_state=21, max_font_size=110).generate(all_words)\n",
        "plt.figure(figsize=(10, 7))\n",
        "plt.imshow(wordcloud, interpolation=\"bilinear\")\n",
        "plt.axis('off')\n",
        "plt.show()"
      ],
      "execution_count": null,
      "outputs": [
        {
          "output_type": "display_data",
          "data": {
            "image/png": "[encoded data removed]",
            "text/plain": [
              "<Figure size 720x504 with 1 Axes>"
            ]
          },
          "metadata": {
            "tags": [],
            "needs_background": "light"
          }
        }
      ]
    },
    {
      "cell_type": "markdown",
      "metadata": {
        "id": "8uoqB2Az4dtS"
      },
      "source": [
        "#POS Tagging"
      ]
    },
    {
      "cell_type": "code",
      "metadata": {
        "id": "5OBRi4vx5AVQ",
        "outputId": "d79022df-acc7-47af-8ecd-4e7758bca3c2",
        "colab": {
          "base_uri": "https://localhost:8080/",
          "height": 86
        }
      },
      "source": [
        "nltk.download('averaged_perceptron_tagger')"
      ],
      "execution_count": null,
      "outputs": [
        {
          "output_type": "stream",
          "text": [
            "[nltk_data] Downloading package averaged_perceptron_tagger to\n",
            "[nltk_data]     /root/nltk_data...\n",
            "[nltk_data]   Unzipping taggers/averaged_perceptron_tagger.zip.\n"
          ],
          "name": "stdout"
        },
        {
          "output_type": "execute_result",
          "data": {
            "text/plain": [
              "True"
            ]
          },
          "metadata": {
            "tags": []
          },
          "execution_count": 50
        }
      ]
    },
    {
      "cell_type": "code",
      "metadata": {
        "id": "D0R7f3tF5LM2"
      },
      "source": [
        "text2 = word_tokenize(text)"
      ],
      "execution_count": null,
      "outputs": []
    },
    {
      "cell_type": "markdown",
      "metadata": {
        "id": "BGeJvf6ML5yq"
      },
      "source": [
        "[PoS Tags](https://www.researchgate.net/profile/Mitchell_Marcus/publication/2873803/figure/tbl1/AS:669991049392137@1536749722377/1-The-Penn-Treebank-POS-tagset.png)"
      ]
    },
    {
      "cell_type": "code",
      "metadata": {
        "id": "AuhZxqQq4geo",
        "outputId": "454e1729-6652-4913-a12d-e7af6267c9aa",
        "colab": {
          "base_uri": "https://localhost:8080/",
          "height": 1000
        }
      },
      "source": [
        "for token in text2:\n",
        "  print(nltk.pos_tag([token]))"
      ],
      "execution_count": null,
      "outputs": [
        {
          "output_type": "stream",
          "text": [
            "[('India', 'NNP')]\n",
            "[(',', ',')]\n",
            "[('officially', 'RB')]\n",
            "[('the', 'DT')]\n",
            "[('Republic', 'JJ')]\n",
            "[('of', 'IN')]\n",
            "[('India', 'NNP')]\n",
            "[('is', 'VBZ')]\n",
            "[('a', 'DT')]\n",
            "[('country', 'NN')]\n",
            "[('in', 'IN')]\n",
            "[('South', 'NNP')]\n",
            "[('Asia', 'NN')]\n",
            "[('.', '.')]\n",
            "[('It', 'PRP')]\n",
            "[('is', 'VBZ')]\n",
            "[('the', 'DT')]\n",
            "[('second-most', 'NN')]\n",
            "[('populous', 'JJ')]\n",
            "[('country', 'NN')]\n",
            "[(',', ',')]\n",
            "[('the', 'DT')]\n",
            "[('seventh-largest', 'NN')]\n",
            "[('country', 'NN')]\n",
            "[('by', 'IN')]\n",
            "[('land', 'NN')]\n",
            "[('area', 'NN')]\n",
            "[(',', ',')]\n",
            "[('and', 'CC')]\n",
            "[('the', 'DT')]\n",
            "[('most', 'JJS')]\n",
            "[('populous', 'JJ')]\n",
            "[('democracy', 'NN')]\n",
            "[('in', 'IN')]\n",
            "[('the', 'DT')]\n",
            "[('world', 'NN')]\n",
            "[('.', '.')]\n",
            "[('Bounded', 'VBN')]\n",
            "[('by', 'IN')]\n",
            "[('the', 'DT')]\n",
            "[('Indian', 'JJ')]\n",
            "[('Ocean', 'NNP')]\n",
            "[('on', 'IN')]\n",
            "[('the', 'DT')]\n",
            "[('south', 'NN')]\n",
            "[(',', ',')]\n",
            "[('the', 'DT')]\n",
            "[('Arabian', 'JJ')]\n",
            "[('Sea', 'NNP')]\n",
            "[('on', 'IN')]\n",
            "[('the', 'DT')]\n",
            "[('southwest', 'NN')]\n",
            "[(',', ',')]\n",
            "[('and', 'CC')]\n",
            "[('the', 'DT')]\n",
            "[('Bay', 'NN')]\n",
            "[('of', 'IN')]\n",
            "[('Bengal', 'NNP')]\n",
            "[('on', 'IN')]\n",
            "[('the', 'DT')]\n",
            "[('southeast', 'NN')]\n",
            "[(',', ',')]\n",
            "[('it', 'PRP')]\n",
            "[('shares', 'NNS')]\n",
            "[('land', 'NN')]\n",
            "[('borders', 'NNS')]\n",
            "[('with', 'IN')]\n",
            "[('Pakistan', 'NN')]\n",
            "[('to', 'TO')]\n",
            "[('the', 'DT')]\n",
            "[('west', 'NN')]\n",
            "[(';', ':')]\n",
            "[('China', 'NNP')]\n",
            "[(',', ',')]\n",
            "[('Nepal', 'NN')]\n",
            "[(',', ',')]\n",
            "[('and', 'CC')]\n",
            "[('Bhutan', 'NNP')]\n",
            "[('to', 'TO')]\n",
            "[('the', 'DT')]\n",
            "[('north', 'NN')]\n",
            "[(';', ':')]\n",
            "[('and', 'CC')]\n",
            "[('Bangladesh', 'NNP')]\n",
            "[('and', 'CC')]\n",
            "[('Myanmar', 'NN')]\n",
            "[('to', 'TO')]\n",
            "[('the', 'DT')]\n",
            "[('east', 'NN')]\n",
            "[('.', '.')]\n"
          ],
          "name": "stdout"
        }
      ]
    },
    {
      "cell_type": "markdown",
      "metadata": {
        "id": "fh4jjfmM6q2s"
      },
      "source": [
        "#TF-IDF"
      ]
    },
    {
      "cell_type": "code",
      "metadata": {
        "id": "-cgBGU2O7CNB"
      },
      "source": [
        "from sklearn.feature_extraction.text import TfidfVectorizer"
      ],
      "execution_count": null,
      "outputs": []
    },
    {
      "cell_type": "code",
      "metadata": {
        "id": "94lVE5Xq7Mlw"
      },
      "source": [
        "vectorizer = TfidfVectorizer()"
      ],
      "execution_count": null,
      "outputs": []
    },
    {
      "cell_type": "code",
      "metadata": {
        "id": "PAD9i3fHMd9W"
      },
      "source": [
        "X = vectorizer.fit_transform(stopwords)"
      ],
      "execution_count": null,
      "outputs": []
    },
    {
      "cell_type": "code",
      "metadata": {
        "id": "yJUzSh38MikV",
        "outputId": "2d297644-8717-4054-b9c2-2cb81b9299e5",
        "colab": {
          "base_uri": "https://localhost:8080/",
          "height": 54
        }
      },
      "source": [
        "print(vectorizer.get_feature_names())"
      ],
      "execution_count": null,
      "outputs": [
        {
          "output_type": "stream",
          "text": [
            "['arabian', 'area', 'asia', 'bangladesh', 'bay', 'bengal', 'bhutan', 'borders', 'bounded', 'china', 'country', 'democracy', 'east', 'india', 'indian', 'land', 'largest', 'most', 'myanmar', 'nepal', 'north', 'ocean', 'officially', 'pakistan', 'populous', 'republic', 'sea', 'second', 'seventh', 'shares', 'south', 'southeast', 'southwest', 'west', 'world']\n"
          ],
          "name": "stdout"
        }
      ]
    },
    {
      "cell_type": "markdown",
      "metadata": {
        "id": "Rt4QMZvjNa2D"
      },
      "source": [
        "#Counter"
      ]
    },
    {
      "cell_type": "code",
      "metadata": {
        "id": "E43E5TrmL8tQ"
      },
      "source": [
        "from collections import Counter"
      ],
      "execution_count": null,
      "outputs": []
    },
    {
      "cell_type": "code",
      "metadata": {
        "id": "tGn98bmtMFPa"
      },
      "source": [
        "Counter = Counter(stopwords)"
      ],
      "execution_count": null,
      "outputs": []
    },
    {
      "cell_type": "code",
      "metadata": {
        "id": "_V6T0f79MLN7"
      },
      "source": [
        "most_occur = Counter.most_common(10) "
      ],
      "execution_count": null,
      "outputs": []
    },
    {
      "cell_type": "code",
      "metadata": {
        "id": "wAdOHxKxMPJX",
        "outputId": "8d5600a3-e610-4e65-c9c1-d3c4e9d80f9d",
        "colab": {
          "base_uri": "https://localhost:8080/"
        }
      },
      "source": [
        "most_occur"
      ],
      "execution_count": null,
      "outputs": [
        {
          "output_type": "execute_result",
          "data": {
            "text/plain": [
              "[(',', 8),\n",
              " ('country', 3),\n",
              " ('.', 3),\n",
              " ('india', 2),\n",
              " ('south', 2),\n",
              " ('populous', 2),\n",
              " ('land', 2),\n",
              " (';', 2),\n",
              " ('officially', 1),\n",
              " ('republic', 1)]"
            ]
          },
          "metadata": {
            "tags": []
          },
          "execution_count": 60
        }
      ]
    },
    {
      "cell_type": "markdown",
      "metadata": {
        "id": "Xr0r-uIDN1x5"
      },
      "source": [
        "#Named Entity Recognition (Chunking)"
      ]
    },
    {
      "cell_type": "code",
      "metadata": {
        "id": "OK1pKQnEO2iD"
      },
      "source": [
        "from nltk import ne_chunk"
      ],
      "execution_count": null,
      "outputs": []
    },
    {
      "cell_type": "code",
      "metadata": {
        "id": "iZ8TeyoDO_wC"
      },
      "source": [
        "token = word_tokenize(text)"
      ],
      "execution_count": null,
      "outputs": []
    },
    {
      "cell_type": "code",
      "metadata": {
        "id": "A7LnRrMSPDyV"
      },
      "source": [
        "tags = nltk.pos_tag(token)"
      ],
      "execution_count": null,
      "outputs": []
    },
    {
      "cell_type": "code",
      "metadata": {
        "id": "J-m0ekvNPLW5",
        "outputId": "1e37893e-11d1-4d1c-e8fc-fcbeb22a3489",
        "colab": {
          "base_uri": "https://localhost:8080/",
          "height": 119
        }
      },
      "source": [
        "nltk.download('maxent_ne_chunker')\n",
        "nltk.download('words')"
      ],
      "execution_count": null,
      "outputs": [
        {
          "output_type": "stream",
          "text": [
            "[nltk_data] Downloading package maxent_ne_chunker to\n",
            "[nltk_data]     /root/nltk_data...\n",
            "[nltk_data]   Unzipping chunkers/maxent_ne_chunker.zip.\n",
            "[nltk_data] Downloading package words to /root/nltk_data...\n",
            "[nltk_data]   Unzipping corpora/words.zip.\n"
          ],
          "name": "stdout"
        },
        {
          "output_type": "execute_result",
          "data": {
            "text/plain": [
              "True"
            ]
          },
          "metadata": {
            "tags": []
          },
          "execution_count": 123
        }
      ]
    },
    {
      "cell_type": "code",
      "metadata": {
        "id": "eA779u2tPHXf"
      },
      "source": [
        "chunk = ne_chunk(tags)"
      ],
      "execution_count": null,
      "outputs": []
    },
    {
      "cell_type": "markdown",
      "metadata": {
        "id": "L1eMZwUdM5_Z"
      },
      "source": [
        "[NER Tags](https://miro.medium.com/max/511/0*SqZbOvfNIdPsuVh3.png)"
      ]
    },
    {
      "cell_type": "code",
      "metadata": {
        "id": "YItI63-7PTiG",
        "outputId": "24bb3471-ef70-4e76-df57-00baf623fdf2",
        "colab": {
          "base_uri": "https://localhost:8080/",
          "height": 1000
        }
      },
      "source": [
        "print(chunk)"
      ],
      "execution_count": null,
      "outputs": [
        {
          "output_type": "stream",
          "text": [
            "(S\n",
            "  (GPE India/NNP)\n",
            "  ,/,\n",
            "  officially/RB\n",
            "  the/DT\n",
            "  (ORGANIZATION Republic/NNP)\n",
            "  of/IN\n",
            "  (GPE India/NNP)\n",
            "  is/VBZ\n",
            "  a/DT\n",
            "  country/NN\n",
            "  in/IN\n",
            "  (GPE South/NNP Asia/NNP)\n",
            "  ./.\n",
            "  It/PRP\n",
            "  is/VBZ\n",
            "  the/DT\n",
            "  second-most/JJ\n",
            "  populous/JJ\n",
            "  country/NN\n",
            "  ,/,\n",
            "  the/DT\n",
            "  seventh-largest/JJ\n",
            "  country/NN\n",
            "  by/IN\n",
            "  land/NN\n",
            "  area/NN\n",
            "  ,/,\n",
            "  and/CC\n",
            "  the/DT\n",
            "  most/RBS\n",
            "  populous/JJ\n",
            "  democracy/NN\n",
            "  in/IN\n",
            "  the/DT\n",
            "  world/NN\n",
            "  ./.\n",
            "  Bounded/VBN\n",
            "  by/IN\n",
            "  the/DT\n",
            "  (GPE Indian/JJ)\n",
            "  (LOCATION Ocean/NNP)\n",
            "  on/IN\n",
            "  the/DT\n",
            "  south/NN\n",
            "  ,/,\n",
            "  the/DT\n",
            "  (PERSON Arabian/NNP Sea/NNP)\n",
            "  on/IN\n",
            "  the/DT\n",
            "  southwest/NN\n",
            "  ,/,\n",
            "  and/CC\n",
            "  the/DT\n",
            "  (ORGANIZATION Bay/NNP)\n",
            "  of/IN\n",
            "  (GPE Bengal/NNP)\n",
            "  on/IN\n",
            "  the/DT\n",
            "  southeast/NN\n",
            "  ,/,\n",
            "  it/PRP\n",
            "  shares/NNS\n",
            "  land/VBZ\n",
            "  borders/NNS\n",
            "  with/IN\n",
            "  (GPE Pakistan/NNP)\n",
            "  to/TO\n",
            "  the/DT\n",
            "  west/NN\n",
            "  ;/:\n",
            "  (GPE China/NNP)\n",
            "  ,/,\n",
            "  (PERSON Nepal/NNP)\n",
            "  ,/,\n",
            "  and/CC\n",
            "  (GPE Bhutan/NNP)\n",
            "  to/TO\n",
            "  the/DT\n",
            "  north/NN\n",
            "  ;/:\n",
            "  and/CC\n",
            "  (ORGANIZATION Bangladesh/NNP)\n",
            "  and/CC\n",
            "  (PERSON Myanmar/NNP)\n",
            "  to/TO\n",
            "  the/DT\n",
            "  east/NN\n",
            "  ./.)\n"
          ],
          "name": "stdout"
        }
      ]
    }
  ]
}